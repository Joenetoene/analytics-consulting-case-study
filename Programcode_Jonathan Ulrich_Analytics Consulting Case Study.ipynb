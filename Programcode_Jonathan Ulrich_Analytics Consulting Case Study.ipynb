{
 "cells": [
  {
   "cell_type": "markdown",
   "metadata": {},
   "source": [
    "# Lidl Analytics - Consulting Case Study"
   ]
  },
  {
   "cell_type": "markdown",
   "metadata": {},
   "source": [
    "#### Author: Jonathan Ulrich"
   ]
  },
  {
   "cell_type": "markdown",
   "metadata": {},
   "source": [
    "#### Date: 01.09.2020"
   ]
  },
  {
   "cell_type": "markdown",
   "metadata": {},
   "source": [
    "## Index\n",
    "\n",
    "### (1) Setup\n",
    "### (2) Data Preperation\n",
    "### (3) Data Analysis\n",
    "    (3.1) Data Visualization and Exploration\n",
    "    (3.2) Multiple Linear Regression Model\n",
    "    (3.3) Correlation Analysis\n",
    "    (3.4) K-means Clustering"
   ]
  },
  {
   "cell_type": "markdown",
   "metadata": {},
   "source": [
    "## (1) Setup"
   ]
  },
  {
   "cell_type": "code",
   "execution_count": 1,
   "metadata": {},
   "outputs": [],
   "source": [
    "import numpy as np\n",
    "import pandas as pd\n",
    "\n",
    "import math\n",
    "\n",
    "import seaborn as sns\n",
    "\n",
    "%matplotlib inline\n",
    "import matplotlib.pyplot as plt\n",
    "\n",
    "import statsmodels.api as sm\n",
    "\n",
    "from scipy import stats\n",
    "\n",
    "from sklearn import datasets, linear_model\n",
    "from sklearn.linear_model import LinearRegression\n",
    "from sklearn.cluster import KMeans\n",
    "from sklearn.preprocessing import StandardScaler\n",
    "from sklearn import metrics\n",
    "from sklearn.metrics import mean_squared_error"
   ]
  },
  {
   "cell_type": "markdown",
   "metadata": {},
   "source": [
    "## (2) Data Preparation"
   ]
  },
  {
   "cell_type": "code",
   "execution_count": 2,
   "metadata": {},
   "outputs": [],
   "source": [
    "#Loading data from github\n",
    "url = 'https://raw.githubusercontent.com/fivethirtyeight/data/master/candy-power-ranking/candy-data.csv'\n",
    "df = pd.read_csv(url, index_col=0)\n"
   ]
  },
  {
   "cell_type": "code",
   "execution_count": 3,
   "metadata": {},
   "outputs": [
    {
     "name": "stdout",
     "output_type": "stream",
     "text": [
      "No Null values!\n"
     ]
    }
   ],
   "source": [
    "#Checking data for missing values\n",
    "if sum((df.isnull().sum()/len(df)*100).sort_values(ascending=False)) == 0:\n",
    "    print('No Null values!')\n",
    "    \n",
    "else:\n",
    "    print('Null values!')"
   ]
  },
  {
   "cell_type": "code",
   "execution_count": 4,
   "metadata": {},
   "outputs": [
    {
     "name": "stdout",
     "output_type": "stream",
     "text": [
      "                chocolate  fruity  caramel  peanutyalmondy  nougat  \\\n",
      "competitorname                                                       \n",
      "One dime                0       0        0               0       0   \n",
      "One quarter             0       0        0               0       0   \n",
      "\n",
      "                crispedricewafer  hard  bar  pluribus  sugarpercent  \\\n",
      "competitorname                                                        \n",
      "One dime                       0     0    0         0         0.011   \n",
      "One quarter                    0     0    0         0         0.011   \n",
      "\n",
      "                pricepercent  winpercent  \n",
      "competitorname                            \n",
      "One dime               0.116   32.261086  \n",
      "One quarter            0.511   46.116505  \n"
     ]
    }
   ],
   "source": [
    "#Checking for competitors with no ingredients\n",
    "df_noing = df[df[['chocolate','fruity','caramel', 'peanutyalmondy', 'nougat', 'crispedricewafer', 'hard', 'bar', 'pluribus']].sum(axis=1) == 0]\n",
    "\n",
    "print(df_noing)\n"
   ]
  },
  {
   "cell_type": "code",
   "execution_count": 5,
   "metadata": {},
   "outputs": [],
   "source": [
    "#Dropping dime and quarter\n",
    "df = df.drop(['One dime', 'One quarter'])"
   ]
  },
  {
   "cell_type": "code",
   "execution_count": 6,
   "metadata": {},
   "outputs": [],
   "source": [
    "#Creating New Metrics for Number of Ingredients\n",
    "df['number ingredients'] = df[['chocolate','fruity','caramel', 'peanutyalmondy', 'nougat', 'crispedricewafer', 'hard', 'bar']].sum(axis=1)\n",
    "\n",
    "#Changing the metric pricepercent into € by recalculating value assuming one quarter = 0.25€\n",
    "df['pricepercent'] = (df['pricepercent']/0.511)*0.25\n",
    "\n",
    "#Renaming column to price\n",
    "df = df.rename(columns={'pricepercent': 'price'})"
   ]
  },
  {
   "cell_type": "markdown",
   "metadata": {},
   "source": [
    "## (3) Data Analysis"
   ]
  },
  {
   "cell_type": "markdown",
   "metadata": {},
   "source": [
    "### (3.1) Data Exploration"
   ]
  },
  {
   "cell_type": "code",
   "execution_count": 7,
   "metadata": {},
   "outputs": [
    {
     "name": "stdout",
     "output_type": "stream",
     "text": [
      "                chocolate  fruity  caramel  peanutyalmondy  nougat  \\\n",
      "competitorname                                                       \n",
      "100 Grand               1       0        1               0       0   \n",
      "3 Musketeers            1       0        0               0       1   \n",
      "Air Heads               0       1        0               0       0   \n",
      "Almond Joy              1       0        0               1       0   \n",
      "Baby Ruth               1       0        1               1       1   \n",
      "\n",
      "                crispedricewafer  hard  bar  pluribus  sugarpercent     price  \\\n",
      "competitorname                                                                  \n",
      "100 Grand                      1     0    1         0         0.732  0.420744   \n",
      "3 Musketeers                   0     0    1         0         0.604  0.250000   \n",
      "Air Heads                      0     0    0         0         0.906  0.250000   \n",
      "Almond Joy                     0     0    1         0         0.465  0.375245   \n",
      "Baby Ruth                      0     0    1         0         0.604  0.375245   \n",
      "\n",
      "                winpercent  number ingredients  \n",
      "competitorname                                  \n",
      "100 Grand        66.971725                   4  \n",
      "3 Musketeers     67.602936                   3  \n",
      "Air Heads        52.341465                   1  \n",
      "Almond Joy       50.347546                   3  \n",
      "Baby Ruth        56.914547                   5  \n"
     ]
    }
   ],
   "source": [
    "#Data exploration (1)\n",
    "print(df.head())"
   ]
  },
  {
   "cell_type": "code",
   "execution_count": 8,
   "metadata": {},
   "outputs": [
    {
     "name": "stdout",
     "output_type": "stream",
     "text": [
      "(83, 13)\n"
     ]
    }
   ],
   "source": [
    "#Data exploration (2)\n",
    "print (df.shape)"
   ]
  },
  {
   "cell_type": "code",
   "execution_count": 9,
   "metadata": {},
   "outputs": [
    {
     "data": {
      "text/html": [
       "<div>\n",
       "<style scoped>\n",
       "    .dataframe tbody tr th:only-of-type {\n",
       "        vertical-align: middle;\n",
       "    }\n",
       "\n",
       "    .dataframe tbody tr th {\n",
       "        vertical-align: top;\n",
       "    }\n",
       "\n",
       "    .dataframe thead th {\n",
       "        text-align: right;\n",
       "    }\n",
       "</style>\n",
       "<table border=\"1\" class=\"dataframe\">\n",
       "  <thead>\n",
       "    <tr style=\"text-align: right;\">\n",
       "      <th></th>\n",
       "      <th>chocolate</th>\n",
       "      <th>fruity</th>\n",
       "      <th>caramel</th>\n",
       "      <th>peanutyalmondy</th>\n",
       "      <th>nougat</th>\n",
       "      <th>crispedricewafer</th>\n",
       "      <th>hard</th>\n",
       "      <th>bar</th>\n",
       "      <th>pluribus</th>\n",
       "      <th>sugarpercent</th>\n",
       "      <th>price</th>\n",
       "      <th>winpercent</th>\n",
       "      <th>number ingredients</th>\n",
       "    </tr>\n",
       "  </thead>\n",
       "  <tbody>\n",
       "    <tr>\n",
       "      <th>count</th>\n",
       "      <td>83.000000</td>\n",
       "      <td>83.000000</td>\n",
       "      <td>83.000000</td>\n",
       "      <td>83.000000</td>\n",
       "      <td>83.000000</td>\n",
       "      <td>83.000000</td>\n",
       "      <td>83.000000</td>\n",
       "      <td>83.000000</td>\n",
       "      <td>83.000000</td>\n",
       "      <td>83.000000</td>\n",
       "      <td>83.000000</td>\n",
       "      <td>83.000000</td>\n",
       "      <td>83.000000</td>\n",
       "    </tr>\n",
       "    <tr>\n",
       "      <th>mean</th>\n",
       "      <td>0.445783</td>\n",
       "      <td>0.457831</td>\n",
       "      <td>0.168675</td>\n",
       "      <td>0.168675</td>\n",
       "      <td>0.084337</td>\n",
       "      <td>0.084337</td>\n",
       "      <td>0.180723</td>\n",
       "      <td>0.253012</td>\n",
       "      <td>0.530120</td>\n",
       "      <td>0.489916</td>\n",
       "      <td>0.231226</td>\n",
       "      <td>50.584908</td>\n",
       "      <td>1.843373</td>\n",
       "    </tr>\n",
       "    <tr>\n",
       "      <th>std</th>\n",
       "      <td>0.500073</td>\n",
       "      <td>0.501247</td>\n",
       "      <td>0.376741</td>\n",
       "      <td>0.376741</td>\n",
       "      <td>0.279582</td>\n",
       "      <td>0.279582</td>\n",
       "      <td>0.387128</td>\n",
       "      <td>0.437381</td>\n",
       "      <td>0.502126</td>\n",
       "      <td>0.276498</td>\n",
       "      <td>0.140168</td>\n",
       "      <td>14.748880</td>\n",
       "      <td>1.098579</td>\n",
       "    </tr>\n",
       "    <tr>\n",
       "      <th>min</th>\n",
       "      <td>0.000000</td>\n",
       "      <td>0.000000</td>\n",
       "      <td>0.000000</td>\n",
       "      <td>0.000000</td>\n",
       "      <td>0.000000</td>\n",
       "      <td>0.000000</td>\n",
       "      <td>0.000000</td>\n",
       "      <td>0.000000</td>\n",
       "      <td>0.000000</td>\n",
       "      <td>0.034000</td>\n",
       "      <td>0.005382</td>\n",
       "      <td>22.445341</td>\n",
       "      <td>0.000000</td>\n",
       "    </tr>\n",
       "    <tr>\n",
       "      <th>25%</th>\n",
       "      <td>0.000000</td>\n",
       "      <td>0.000000</td>\n",
       "      <td>0.000000</td>\n",
       "      <td>0.000000</td>\n",
       "      <td>0.000000</td>\n",
       "      <td>0.000000</td>\n",
       "      <td>0.000000</td>\n",
       "      <td>0.000000</td>\n",
       "      <td>0.000000</td>\n",
       "      <td>0.267000</td>\n",
       "      <td>0.127691</td>\n",
       "      <td>39.163280</td>\n",
       "      <td>1.000000</td>\n",
       "    </tr>\n",
       "    <tr>\n",
       "      <th>50%</th>\n",
       "      <td>0.000000</td>\n",
       "      <td>0.000000</td>\n",
       "      <td>0.000000</td>\n",
       "      <td>0.000000</td>\n",
       "      <td>0.000000</td>\n",
       "      <td>0.000000</td>\n",
       "      <td>0.000000</td>\n",
       "      <td>0.000000</td>\n",
       "      <td>1.000000</td>\n",
       "      <td>0.465000</td>\n",
       "      <td>0.227495</td>\n",
       "      <td>48.982651</td>\n",
       "      <td>2.000000</td>\n",
       "    </tr>\n",
       "    <tr>\n",
       "      <th>75%</th>\n",
       "      <td>1.000000</td>\n",
       "      <td>1.000000</td>\n",
       "      <td>0.000000</td>\n",
       "      <td>0.000000</td>\n",
       "      <td>0.000000</td>\n",
       "      <td>0.000000</td>\n",
       "      <td>0.000000</td>\n",
       "      <td>0.500000</td>\n",
       "      <td>1.000000</td>\n",
       "      <td>0.732000</td>\n",
       "      <td>0.343933</td>\n",
       "      <td>60.332349</td>\n",
       "      <td>2.000000</td>\n",
       "    </tr>\n",
       "    <tr>\n",
       "      <th>max</th>\n",
       "      <td>1.000000</td>\n",
       "      <td>1.000000</td>\n",
       "      <td>1.000000</td>\n",
       "      <td>1.000000</td>\n",
       "      <td>1.000000</td>\n",
       "      <td>1.000000</td>\n",
       "      <td>1.000000</td>\n",
       "      <td>1.000000</td>\n",
       "      <td>1.000000</td>\n",
       "      <td>0.988000</td>\n",
       "      <td>0.477495</td>\n",
       "      <td>84.180290</td>\n",
       "      <td>5.000000</td>\n",
       "    </tr>\n",
       "  </tbody>\n",
       "</table>\n",
       "</div>"
      ],
      "text/plain": [
       "       chocolate     fruity    caramel  peanutyalmondy     nougat  \\\n",
       "count  83.000000  83.000000  83.000000       83.000000  83.000000   \n",
       "mean    0.445783   0.457831   0.168675        0.168675   0.084337   \n",
       "std     0.500073   0.501247   0.376741        0.376741   0.279582   \n",
       "min     0.000000   0.000000   0.000000        0.000000   0.000000   \n",
       "25%     0.000000   0.000000   0.000000        0.000000   0.000000   \n",
       "50%     0.000000   0.000000   0.000000        0.000000   0.000000   \n",
       "75%     1.000000   1.000000   0.000000        0.000000   0.000000   \n",
       "max     1.000000   1.000000   1.000000        1.000000   1.000000   \n",
       "\n",
       "       crispedricewafer       hard        bar   pluribus  sugarpercent  \\\n",
       "count         83.000000  83.000000  83.000000  83.000000     83.000000   \n",
       "mean           0.084337   0.180723   0.253012   0.530120      0.489916   \n",
       "std            0.279582   0.387128   0.437381   0.502126      0.276498   \n",
       "min            0.000000   0.000000   0.000000   0.000000      0.034000   \n",
       "25%            0.000000   0.000000   0.000000   0.000000      0.267000   \n",
       "50%            0.000000   0.000000   0.000000   1.000000      0.465000   \n",
       "75%            0.000000   0.000000   0.500000   1.000000      0.732000   \n",
       "max            1.000000   1.000000   1.000000   1.000000      0.988000   \n",
       "\n",
       "           price  winpercent  number ingredients  \n",
       "count  83.000000   83.000000           83.000000  \n",
       "mean    0.231226   50.584908            1.843373  \n",
       "std     0.140168   14.748880            1.098579  \n",
       "min     0.005382   22.445341            0.000000  \n",
       "25%     0.127691   39.163280            1.000000  \n",
       "50%     0.227495   48.982651            2.000000  \n",
       "75%     0.343933   60.332349            2.000000  \n",
       "max     0.477495   84.180290            5.000000  "
      ]
     },
     "execution_count": 9,
     "metadata": {},
     "output_type": "execute_result"
    }
   ],
   "source": [
    "#Data exploration (3)\n",
    "df.describe()"
   ]
  },
  {
   "cell_type": "code",
   "execution_count": 10,
   "metadata": {},
   "outputs": [
    {
     "data": {
      "text/plain": [
       "chocolate               37.000000\n",
       "fruity                  38.000000\n",
       "caramel                 14.000000\n",
       "peanutyalmondy          14.000000\n",
       "nougat                   7.000000\n",
       "crispedricewafer         7.000000\n",
       "hard                    15.000000\n",
       "bar                     21.000000\n",
       "pluribus                44.000000\n",
       "sugarpercent            40.662999\n",
       "price                   19.191781\n",
       "winpercent            4198.547333\n",
       "number ingredients     153.000000\n",
       "dtype: float64"
      ]
     },
     "execution_count": 10,
     "metadata": {},
     "output_type": "execute_result"
    }
   ],
   "source": [
    "#Data exploration (4)\n",
    "df.sum(axis=0)"
   ]
  },
  {
   "cell_type": "code",
   "execution_count": 11,
   "metadata": {},
   "outputs": [
    {
     "data": {
      "text/html": [
       "<div>\n",
       "<style scoped>\n",
       "    .dataframe tbody tr th:only-of-type {\n",
       "        vertical-align: middle;\n",
       "    }\n",
       "\n",
       "    .dataframe tbody tr th {\n",
       "        vertical-align: top;\n",
       "    }\n",
       "\n",
       "    .dataframe thead th {\n",
       "        text-align: right;\n",
       "    }\n",
       "</style>\n",
       "<table border=\"1\" class=\"dataframe\">\n",
       "  <thead>\n",
       "    <tr style=\"text-align: right;\">\n",
       "      <th></th>\n",
       "      <th>chocolate</th>\n",
       "      <th>fruity</th>\n",
       "      <th>caramel</th>\n",
       "      <th>peanutyalmondy</th>\n",
       "      <th>nougat</th>\n",
       "      <th>crispedricewafer</th>\n",
       "      <th>hard</th>\n",
       "      <th>bar</th>\n",
       "      <th>pluribus</th>\n",
       "      <th>sugarpercent</th>\n",
       "      <th>price</th>\n",
       "      <th>winpercent</th>\n",
       "      <th>number ingredients</th>\n",
       "    </tr>\n",
       "    <tr>\n",
       "      <th>competitorname</th>\n",
       "      <th></th>\n",
       "      <th></th>\n",
       "      <th></th>\n",
       "      <th></th>\n",
       "      <th></th>\n",
       "      <th></th>\n",
       "      <th></th>\n",
       "      <th></th>\n",
       "      <th></th>\n",
       "      <th></th>\n",
       "      <th></th>\n",
       "      <th></th>\n",
       "      <th></th>\n",
       "    </tr>\n",
       "  </thead>\n",
       "  <tbody>\n",
       "    <tr>\n",
       "      <th>ReeseÕs Peanut Butter cup</th>\n",
       "      <td>1</td>\n",
       "      <td>0</td>\n",
       "      <td>0</td>\n",
       "      <td>1</td>\n",
       "      <td>0</td>\n",
       "      <td>0</td>\n",
       "      <td>0</td>\n",
       "      <td>0</td>\n",
       "      <td>0</td>\n",
       "      <td>0.720</td>\n",
       "      <td>0.318493</td>\n",
       "      <td>84.180290</td>\n",
       "      <td>2</td>\n",
       "    </tr>\n",
       "    <tr>\n",
       "      <th>ReeseÕs Miniatures</th>\n",
       "      <td>1</td>\n",
       "      <td>0</td>\n",
       "      <td>0</td>\n",
       "      <td>1</td>\n",
       "      <td>0</td>\n",
       "      <td>0</td>\n",
       "      <td>0</td>\n",
       "      <td>0</td>\n",
       "      <td>0</td>\n",
       "      <td>0.034</td>\n",
       "      <td>0.136497</td>\n",
       "      <td>81.866257</td>\n",
       "      <td>2</td>\n",
       "    </tr>\n",
       "    <tr>\n",
       "      <th>Twix</th>\n",
       "      <td>1</td>\n",
       "      <td>0</td>\n",
       "      <td>1</td>\n",
       "      <td>0</td>\n",
       "      <td>0</td>\n",
       "      <td>1</td>\n",
       "      <td>0</td>\n",
       "      <td>1</td>\n",
       "      <td>0</td>\n",
       "      <td>0.546</td>\n",
       "      <td>0.443249</td>\n",
       "      <td>81.642914</td>\n",
       "      <td>4</td>\n",
       "    </tr>\n",
       "    <tr>\n",
       "      <th>Kit Kat</th>\n",
       "      <td>1</td>\n",
       "      <td>0</td>\n",
       "      <td>0</td>\n",
       "      <td>0</td>\n",
       "      <td>0</td>\n",
       "      <td>1</td>\n",
       "      <td>0</td>\n",
       "      <td>1</td>\n",
       "      <td>0</td>\n",
       "      <td>0.313</td>\n",
       "      <td>0.250000</td>\n",
       "      <td>76.768600</td>\n",
       "      <td>3</td>\n",
       "    </tr>\n",
       "    <tr>\n",
       "      <th>Snickers</th>\n",
       "      <td>1</td>\n",
       "      <td>0</td>\n",
       "      <td>1</td>\n",
       "      <td>1</td>\n",
       "      <td>1</td>\n",
       "      <td>0</td>\n",
       "      <td>0</td>\n",
       "      <td>1</td>\n",
       "      <td>0</td>\n",
       "      <td>0.546</td>\n",
       "      <td>0.318493</td>\n",
       "      <td>76.673782</td>\n",
       "      <td>5</td>\n",
       "    </tr>\n",
       "  </tbody>\n",
       "</table>\n",
       "</div>"
      ],
      "text/plain": [
       "                           chocolate  fruity  caramel  peanutyalmondy  nougat  \\\n",
       "competitorname                                                                  \n",
       "ReeseÕs Peanut Butter cup          1       0        0               1       0   \n",
       "ReeseÕs Miniatures                 1       0        0               1       0   \n",
       "Twix                               1       0        1               0       0   \n",
       "Kit Kat                            1       0        0               0       0   \n",
       "Snickers                           1       0        1               1       1   \n",
       "\n",
       "                           crispedricewafer  hard  bar  pluribus  \\\n",
       "competitorname                                                     \n",
       "ReeseÕs Peanut Butter cup                 0     0    0         0   \n",
       "ReeseÕs Miniatures                        0     0    0         0   \n",
       "Twix                                      1     0    1         0   \n",
       "Kit Kat                                   1     0    1         0   \n",
       "Snickers                                  0     0    1         0   \n",
       "\n",
       "                           sugarpercent     price  winpercent  \\\n",
       "competitorname                                                  \n",
       "ReeseÕs Peanut Butter cup         0.720  0.318493   84.180290   \n",
       "ReeseÕs Miniatures                0.034  0.136497   81.866257   \n",
       "Twix                              0.546  0.443249   81.642914   \n",
       "Kit Kat                           0.313  0.250000   76.768600   \n",
       "Snickers                          0.546  0.318493   76.673782   \n",
       "\n",
       "                           number ingredients  \n",
       "competitorname                                 \n",
       "ReeseÕs Peanut Butter cup                   2  \n",
       "ReeseÕs Miniatures                          2  \n",
       "Twix                                        4  \n",
       "Kit Kat                                     3  \n",
       "Snickers                                    5  "
      ]
     },
     "execution_count": 11,
     "metadata": {},
     "output_type": "execute_result"
    }
   ],
   "source": [
    "#Having a look at top scoring products\n",
    "df_max= df.sort_values(by=['winpercent'], ascending=False)\n",
    "df_max.head(5)"
   ]
  },
  {
   "cell_type": "code",
   "execution_count": 12,
   "metadata": {},
   "outputs": [],
   "source": [
    "#Calculating sum of attributes of candy\n",
    "Z = df[['chocolate','fruity','caramel', 'peanutyalmondy', 'nougat', 'crispedricewafer', 'hard', 'bar','pluribus']]\n",
    "sum = Z.sum()"
   ]
  },
  {
   "cell_type": "code",
   "execution_count": 13,
   "metadata": {},
   "outputs": [],
   "source": [
    "#Calculating average values of binary attributes \n",
    "Attributes = list(Z.columns.values)\n",
    "avgwinlist = []\n",
    "\n",
    "for a in range(len(Attributes)):\n",
    "    dfa = df[df[Attributes[a]] == 1]\n",
    "    avg = dfa['winpercent'].mean(axis=0)\n",
    "    avg = round(avg,2)\n",
    "    avgwinlist.append(avg)\n",
    "\n",
    "\n"
   ]
  },
  {
   "cell_type": "code",
   "execution_count": 14,
   "metadata": {},
   "outputs": [],
   "source": [
    "#Creating df_explore, assigning columns and integrating averagewinlist\n",
    "df_explore = pd.DataFrame(sum)\n",
    "df_explore.columns = ['Anzahl an Süßigkeiten mit Eigenschaft']\n",
    "df_explore['Anzahl an Süßigkeiten ohne Eigenschaft'] = 83 - df_explore['Anzahl an Süßigkeiten mit Eigenschaft']\n",
    "df_explore['% Anteil an Süßigkeiten mit Eigenschaft'] = ((df_explore['Anzahl an Süßigkeiten mit Eigenschaft'] / 83) * 100).round(decimals=1)\n",
    "df_explore = df_explore.assign(Gewinnrate = avgwinlist)\n"
   ]
  },
  {
   "cell_type": "code",
   "execution_count": 15,
   "metadata": {},
   "outputs": [
    {
     "data": {
      "image/png": "[encoded data removed]",
      "text/plain": [
       "<Figure size 432x288 with 1 Axes>"
      ]
     },
     "metadata": {
      "needs_background": "light"
     },
     "output_type": "display_data"
    }
   ],
   "source": [
    "#Renaming Columns of df_explore and setting index to be a column\n",
    "df_explore = df_explore.rename(index={'chocolate': 'Schokolade', 'fruity':'Fruchtig', 'caramel':'Karamell', 'peanutyalmondy': 'Erdnuss/Mandel', 'nougat':'Nougat', 'crispedricewafer':'Reiswaffel', 'hard':'Hart', 'bar':'Riegel', 'pluribus':'Pluribus', 'avgwinpercent':'Durchschnittliche Gewinnrate'})\n",
    "df_explore = df_explore.reset_index()\n",
    "df_explore.rename(columns={'index':'Eigenschaft'},inplace=True)\n",
    " \n",
    "#Plotting number of sweets that have each attribute\n",
    "df_explore.plot.bar(x=\"Eigenschaft\", y=\"Anzahl an Süßigkeiten mit Eigenschaft\", rot=70, title=\"Anzahl an Süßigkeiten mit bestimmten Eigenschaften\", color='grey');"
   ]
  },
  {
   "cell_type": "code",
   "execution_count": 16,
   "metadata": {},
   "outputs": [
    {
     "data": {
      "image/png": "[encoded data removed]",
      "text/plain": [
       "<Figure size 432x288 with 1 Axes>"
      ]
     },
     "metadata": {
      "needs_background": "light"
     },
     "output_type": "display_data"
    }
   ],
   "source": [
    "#Plot average winrate                                    \n",
    "df_explore.plot.bar(x=\"Eigenschaft\", y=\"Gewinnrate\", rot=70, title=\"Durchschnittliche Gewinnrate (%) je Eigenschaft\", color='grey');"
   ]
  },
  {
   "cell_type": "markdown",
   "metadata": {},
   "source": [
    "### (3.2) Multiple Linear Regression Model"
   ]
  },
  {
   "cell_type": "code",
   "execution_count": 17,
   "metadata": {},
   "outputs": [],
   "source": [
    "#Building linear regression model\n",
    "lm = LinearRegression()"
   ]
  },
  {
   "cell_type": "code",
   "execution_count": 18,
   "metadata": {},
   "outputs": [],
   "source": [
    "# Defining winpercent as Response Variable\n",
    "y = df['winpercent']"
   ]
  },
  {
   "cell_type": "code",
   "execution_count": 19,
   "metadata": {},
   "outputs": [],
   "source": [
    "#Defining predictor variables for multiple linear regression model\n",
    "Z = df[['chocolate','fruity','caramel', 'peanutyalmondy', 'nougat', 'crispedricewafer', 'hard', 'bar','pluribus']]\n",
    "W = df[[ 'sugarpercent', 'price', 'number ingredients', 'pluribus']]\n",
    "X = df[['chocolate','fruity','caramel', 'peanutyalmondy', 'nougat', 'crispedricewafer', 'hard', 'bar', 'pluribus', 'sugarpercent', 'price', 'number ingredients' ]]\n",
    "N = df[['chocolate','fruity','caramel', 'peanutyalmondy', 'nougat', 'crispedricewafer', 'hard', 'bar','winpercent']]"
   ]
  },
  {
   "cell_type": "code",
   "execution_count": 20,
   "metadata": {},
   "outputs": [
    {
     "name": "stdout",
     "output_type": "stream",
     "text": [
      "                            OLS Regression Results                            \n",
      "==============================================================================\n",
      "Dep. Variable:             winpercent   R-squared:                       0.513\n",
      "Model:                            OLS   Adj. R-squared:                  0.453\n",
      "Method:                 Least Squares   F-statistic:                     8.558\n",
      "Date:                Tue, 01 Sep 2020   Prob (F-statistic):           1.26e-08\n",
      "Time:                        22:56:55   Log-Likelihood:                -310.74\n",
      "No. Observations:                  83   AIC:                             641.5\n",
      "Df Residuals:                      73   BIC:                             665.7\n",
      "Df Model:                           9                                         \n",
      "Covariance Type:            nonrobust                                         \n",
      "====================================================================================\n",
      "                       coef    std err          t      P>|t|      [0.025      0.975]\n",
      "------------------------------------------------------------------------------------\n",
      "const               33.3706      4.841      6.894      0.000      23.723      43.018\n",
      "chocolate           20.7838      4.152      5.006      0.000      12.509      29.059\n",
      "fruity              11.3188      4.149      2.728      0.008       3.051      19.587\n",
      "caramel              3.7865      3.677      1.030      0.306      -3.541      11.114\n",
      "peanutyalmondy      10.4836      3.653      2.870      0.005       3.203      17.765\n",
      "nougat               2.3604      5.720      0.413      0.681      -9.040      13.761\n",
      "crispedricewafer     8.9510      5.356      1.671      0.099      -1.724      19.626\n",
      "hard                -4.5835      3.487     -1.314      0.193     -11.533       2.366\n",
      "bar                 -0.1506      4.977     -0.030      0.976     -10.070       9.769\n",
      "pluribus             0.5142      3.206      0.160      0.873      -5.875       6.904\n",
      "==============================================================================\n",
      "Omnibus:                        1.753   Durbin-Watson:                   1.795\n",
      "Prob(Omnibus):                  0.416   Jarque-Bera (JB):                1.688\n",
      "Skew:                          -0.258   Prob(JB):                        0.430\n",
      "Kurtosis:                       2.530   Cond. No.                         8.81\n",
      "==============================================================================\n",
      "\n",
      "Warnings:\n",
      "[1] Standard Errors assume that the covariance matrix of the errors is correctly specified.\n"
     ]
    }
   ],
   "source": [
    "#Add column of ones to array to calculate constant\n",
    "X2 = sm.add_constant(Z) \n",
    "\n",
    "#Creating Multiple Linear Regression Model with Ordinary Least Squares Method\n",
    "#MLRS for binary attributes\n",
    "est = sm.OLS(y, X2)\n",
    "est2 = est.fit()\n",
    "print(est2.summary())"
   ]
  },
  {
   "cell_type": "code",
   "execution_count": 21,
   "metadata": {},
   "outputs": [
    {
     "name": "stdout",
     "output_type": "stream",
     "text": [
      "                            OLS Regression Results                            \n",
      "==============================================================================\n",
      "Dep. Variable:             winpercent   R-squared:                       0.271\n",
      "Model:                            OLS   Adj. R-squared:                  0.234\n",
      "Method:                 Least Squares   F-statistic:                     7.258\n",
      "Date:                Tue, 01 Sep 2020   Prob (F-statistic):           5.07e-05\n",
      "Time:                        22:56:56   Log-Likelihood:                -327.51\n",
      "No. Observations:                  83   AIC:                             665.0\n",
      "Df Residuals:                      78   BIC:                             677.1\n",
      "Df Model:                           4                                         \n",
      "Covariance Type:            nonrobust                                         \n",
      "======================================================================================\n",
      "                         coef    std err          t      P>|t|      [0.025      0.975]\n",
      "--------------------------------------------------------------------------------------\n",
      "const                 34.3816      4.934      6.969      0.000      24.559      44.204\n",
      "sugarpercent           4.4230      5.521      0.801      0.425      -6.568      15.414\n",
      "price                 11.6091     11.828      0.981      0.329     -11.939      35.157\n",
      "number ingredients     5.9840      1.784      3.354      0.001       2.432       9.536\n",
      "pluribus               0.6064      3.592      0.169      0.866      -6.545       7.757\n",
      "==============================================================================\n",
      "Omnibus:                        1.812   Durbin-Watson:                   1.507\n",
      "Prob(Omnibus):                  0.404   Jarque-Bera (JB):                1.836\n",
      "Skew:                           0.329   Prob(JB):                        0.399\n",
      "Kurtosis:                       2.687   Cond. No.                         20.3\n",
      "==============================================================================\n",
      "\n",
      "Warnings:\n",
      "[1] Standard Errors assume that the covariance matrix of the errors is correctly specified.\n"
     ]
    }
   ],
   "source": [
    "#Add column of ones to array to calculate constant\n",
    "X2 = sm.add_constant(W)\n",
    "\n",
    "#Creating Multiple Linear Regression Model with Ordinary Least Squares Method\n",
    "#MLRS for non-binary attributes\n",
    "est = sm.OLS(y, X2)\n",
    "est2 = est.fit()\n",
    "print(est2.summary())"
   ]
  },
  {
   "cell_type": "code",
   "execution_count": 22,
   "metadata": {
    "scrolled": true
   },
   "outputs": [
    {
     "name": "stdout",
     "output_type": "stream",
     "text": [
      "r2 =  0.5134035516572544\n",
      "mse =  104.57377974880045\n",
      "msesqrt =  10.226132198871696\n"
     ]
    }
   ],
   "source": [
    "#Redefining X\n",
    "X = Z\n",
    "\n",
    "#Fitting linear model to variables.\n",
    "lm.fit(X, y)\n",
    "\n",
    "#Prediction of winpercentage through multiple linear regression model\n",
    "Yhat = lm.predict(X)\n",
    "\n",
    "#Define coefficients in multiple linear regression model\n",
    "c = lm.coef_\n",
    "b = lm.intercept_\n",
    "\n",
    "#Calculation of r2 to evaluate strength of relationship\n",
    "r2 = lm.score(X, df['winpercent'])\n",
    "\n",
    "#Calculate mse and square-root mse\n",
    "mse = mean_squared_error(df['winpercent'], Yhat)\n",
    "msesqrt = math.sqrt(mse)\n",
    "\n",
    "print('r2 = ' , r2)\n",
    "print('mse = ', mse)\n",
    "print('msesqrt = ', msesqrt)"
   ]
  },
  {
   "cell_type": "code",
   "execution_count": 23,
   "metadata": {
    "scrolled": true
   },
   "outputs": [],
   "source": [
    "#Appending df_explore from data exploration for integrated view of binary attributes\n",
    "df_explore = df_explore.assign(Coefficient = c.round(2)/100)\n",
    "df_explore= df_explore.sort_values(by=['Coefficient'], ascending=False)"
   ]
  },
  {
   "cell_type": "code",
   "execution_count": 24,
   "metadata": {},
   "outputs": [
    {
     "name": "stderr",
     "output_type": "stream",
     "text": [
      "C:\\Users\\jonat\\anaconda3\\lib\\site-packages\\pandas\\plotting\\_matplotlib\\core.py:1330: MatplotlibDeprecationWarning: Support for uppercase single-letter colors is deprecated since Matplotlib 3.1 and will be removed in 3.3; please use lowercase instead.\n",
      "  return ax.bar(x, y, w, bottom=start, log=log, **kwds)\n"
     ]
    },
    {
     "data": {
      "text/plain": [
       "[Text(0, 0, 'Schokolade'),\n",
       " Text(0, 0, 'Fruchtig'),\n",
       " Text(0, 0, 'Erdnuss/Mandel'),\n",
       " Text(0, 0, 'Reiswaffel'),\n",
       " Text(0, 0, 'Karamell'),\n",
       " Text(0, 0, 'Nougat'),\n",
       " Text(0, 0, 'Pluribus'),\n",
       " Text(0, 0, 'Riegel'),\n",
       " Text(0, 0, 'Hart')]"
      ]
     },
     "execution_count": 24,
     "metadata": {},
     "output_type": "execute_result"
    },
    {
     "data": {
      "image/png": "[encoded data removed]",
      "text/plain": [
       "<Figure size 432x288 with 1 Axes>"
      ]
     },
     "metadata": {
      "needs_background": "light"
     },
     "output_type": "display_data"
    }
   ],
   "source": [
    "#Visualization of contribution to winpercent (coefficient) in bar chart\n",
    "\n",
    "#Add to x-label and y-label to the plot\n",
    "plt.ylabel('Steigungskoeffizient') \n",
    "\n",
    "#Plot title\n",
    "plt.title('Beitrag der Eigenschaften zu der Gewinnrate in MLRM')\n",
    "\n",
    "#Plotting Data\n",
    "df_explore['Coefficient'].plot(kind='bar', color=(df_explore['Coefficient'] > 0).map({True: 'G',False: 'r'})).set_xticklabels(df_explore['Eigenschaft'])"
   ]
  },
  {
   "cell_type": "code",
   "execution_count": 25,
   "metadata": {},
   "outputs": [
    {
     "data": {
      "image/png": "[encoded data removed]",
      "text/plain": [
       "<Figure size 432x288 with 1 Axes>"
      ]
     },
     "metadata": {
      "needs_background": "light"
     },
     "output_type": "display_data"
    },
    {
     "data": {
      "image/png": "[encoded data removed]",
      "text/plain": [
       "<Figure size 432x288 with 1 Axes>"
      ]
     },
     "metadata": {
      "needs_background": "light"
     },
     "output_type": "display_data"
    },
    {
     "data": {
      "image/png": "[encoded data removed]",
      "text/plain": [
       "<Figure size 432x288 with 1 Axes>"
      ]
     },
     "metadata": {
      "needs_background": "light"
     },
     "output_type": "display_data"
    },
    {
     "data": {
      "image/png": "[encoded data removed]",
      "text/plain": [
       "<Figure size 432x288 with 1 Axes>"
      ]
     },
     "metadata": {
      "needs_background": "light"
     },
     "output_type": "display_data"
    },
    {
     "data": {
      "image/png": "[encoded data removed]",
      "text/plain": [
       "<Figure size 432x288 with 1 Axes>"
      ]
     },
     "metadata": {
      "needs_background": "light"
     },
     "output_type": "display_data"
    },
    {
     "data": {
      "image/png": "[encoded data removed]",
      "text/plain": [
       "<Figure size 432x288 with 1 Axes>"
      ]
     },
     "metadata": {
      "needs_background": "light"
     },
     "output_type": "display_data"
    },
    {
     "data": {
      "image/png": "[encoded data removed]",
      "text/plain": [
       "<Figure size 432x288 with 1 Axes>"
      ]
     },
     "metadata": {
      "needs_background": "light"
     },
     "output_type": "display_data"
    },
    {
     "data": {
      "image/png": "[encoded data removed]",
      "text/plain": [
       "<Figure size 432x288 with 1 Axes>"
      ]
     },
     "metadata": {
      "needs_background": "light"
     },
     "output_type": "display_data"
    },
    {
     "data": {
      "image/png": "[encoded data removed]",
      "text/plain": [
       "<Figure size 432x288 with 1 Axes>"
      ]
     },
     "metadata": {
      "needs_background": "light"
     },
     "output_type": "display_data"
    }
   ],
   "source": [
    "# Plotting data and regression for each ingredient attribute\n",
    "plt.plot(df['chocolate'].to_numpy(),df['winpercent'].to_numpy(),ls='',marker='o')\n",
    "x_plot=np.linspace(0,1,100)\n",
    "plt.plot(x_plot,(lambda x:c[0]*x + b)(x_plot).reshape(-1))\n",
    "plt.title('chocolate')\n",
    "plt.xlabel('Attribute Value')\n",
    "plt.ylabel('winpercent')\n",
    "plt.show()\n",
    "\n",
    "plt.plot(df['fruity'].to_numpy(),df['winpercent'].to_numpy(),ls='',marker='o')\n",
    "x_plot=np.linspace(0,1,100)\n",
    "plt.plot(x_plot,(lambda x:c[1]*x + b)(x_plot).reshape(-1))\n",
    "plt.title('fruity')\n",
    "plt.xlabel('Attribute Value')\n",
    "plt.ylabel('winpercent')\n",
    "plt.show()\n",
    "\n",
    "plt.plot(df['caramel'].to_numpy(),df['winpercent'].to_numpy(),ls='',marker='o')\n",
    "x_plot=np.linspace(0,1,100)\n",
    "plt.plot(x_plot,(lambda x:c[2]*x + b)(x_plot).reshape(-1))\n",
    "plt.title('caramel')\n",
    "plt.xlabel('Attribute Value')\n",
    "plt.ylabel('winpercent')\n",
    "plt.show()\n",
    "\n",
    "plt.plot(df['peanutyalmondy'].to_numpy(),df['winpercent'].to_numpy(),ls='',marker='o')\n",
    "x_plot=np.linspace(0,1,100)\n",
    "plt.plot(x_plot,(lambda x:c[3]*x + b)(x_plot).reshape(-1))\n",
    "plt.title('peanutyalmondy')\n",
    "plt.xlabel('Attribute Value')\n",
    "plt.ylabel('winpercent')\n",
    "plt.show()\n",
    "\n",
    "plt.plot(df['crispedricewafer'].to_numpy(),df['winpercent'].to_numpy(),ls='',marker='o')\n",
    "x_plot=np.linspace(0,1,100)\n",
    "plt.plot(x_plot,(lambda x:c[4]*x + b)(x_plot).reshape(-1))\n",
    "plt.title('crispedricewafer')\n",
    "plt.xlabel('Attribute Value')\n",
    "plt.ylabel('winpercent')\n",
    "plt.show()\n",
    "\n",
    "plt.plot(df['nougat'].to_numpy(),df['winpercent'].to_numpy(),ls='',marker='o')\n",
    "x_plot=np.linspace(0,1,100)\n",
    "plt.plot(x_plot,(lambda x:c[5]*x + b)(x_plot).reshape(-1))\n",
    "plt.title('nougat')\n",
    "plt.xlabel('Attribute Value')\n",
    "plt.ylabel('winpercent')\n",
    "plt.show()\n",
    "\n",
    "plt.plot(df['hard'].to_numpy(),df['winpercent'].to_numpy(),ls='',marker='o')\n",
    "x_plot=np.linspace(0,1,100)\n",
    "plt.plot(x_plot,(lambda x:c[6]*x + b)(x_plot).reshape(-1))\n",
    "plt.title('hard')\n",
    "plt.xlabel('Attribute Value')\n",
    "plt.ylabel('winpercent')\n",
    "plt.show()\n",
    "\n",
    "plt.plot(df['bar'].to_numpy(),df['winpercent'].to_numpy(),ls='',marker='o')\n",
    "x_plot=np.linspace(0,1,100)\n",
    "plt.plot(x_plot,(lambda x:c[7]*x + b)(x_plot).reshape(-1))\n",
    "plt.title('bar')\n",
    "plt.xlabel('Attribute Value')\n",
    "plt.ylabel('winpercent')\n",
    "plt.show()\n",
    "\n",
    "plt.plot(df['pluribus'].to_numpy(),df['winpercent'].to_numpy(),ls='',marker='o')\n",
    "x_plot=np.linspace(0,1,100)\n",
    "plt.plot(x_plot,(lambda x:c[8]*x + b)(x_plot).reshape(-1))\n",
    "plt.title('pluribus')\n",
    "plt.xlabel('Attribute Value')\n",
    "plt.ylabel('winpercent')\n",
    "plt.show()"
   ]
  },
  {
   "cell_type": "markdown",
   "metadata": {},
   "source": [
    "### (3.3) Analyzing Correlation of Data"
   ]
  },
  {
   "cell_type": "code",
   "execution_count": 26,
   "metadata": {},
   "outputs": [],
   "source": [
    "#Preparing N as correlation df\n",
    "N = df[['chocolate','fruity','caramel', 'peanutyalmondy', 'nougat', 'crispedricewafer', 'hard', 'bar', 'sugarpercent','pluribus', 'price', 'number ingredients','winpercent']]\n",
    "N = N.rename(columns={'chocolate': 'Schokolade', 'fruity':'Fruchtig', 'caramel':'Karamell', 'peanutyalmondy': 'Erdnuss/Mandel', 'nougat':'Nougat', 'crispedricewafer':'Reiswaffel', 'hard':'Hart', 'bar':'Riegel', 'price':'Preis','sugarpercent':'Zuckeranteil', 'number ingredients':'Anzahl an Zutaten', 'pluribus':'Pluribus', 'winpercent':'Gewinnrate'})\n",
    "\n",
    "#Calculating Pearson correlation\n",
    "N = N.corr(method='pearson')\n",
    "\n",
    "\n"
   ]
  },
  {
   "cell_type": "code",
   "execution_count": 27,
   "metadata": {},
   "outputs": [
    {
     "data": {
      "text/plain": [
       "<matplotlib.axes._subplots.AxesSubplot at 0x19688390e50>"
      ]
     },
     "execution_count": 27,
     "metadata": {},
     "output_type": "execute_result"
    },
    {
     "data": {
      "image/png": "[encoded data removed]",
      "text/plain": [
       "<Figure size 432x288 with 1 Axes>"
      ]
     },
     "metadata": {
      "needs_background": "light"
     },
     "output_type": "display_data"
    }
   ],
   "source": [
    "#visualization of correllation in bar chart\n",
    "\n",
    "#Prepping Data for barplot\n",
    "dfcorr_win = pd.DataFrame(data=N['Gewinnrate'])\n",
    "dfcorr_win = dfcorr_win.sort_values(by=['Gewinnrate'])\n",
    "dfcorr_win = dfcorr_win.drop('Gewinnrate', axis=0)\n",
    "\n",
    "# add to x-label and y-label to the plot\n",
    "plt.xlabel('Korrelation') \n",
    "\n",
    "\n",
    "#Plot title\n",
    "plt.title('(Pearson) Korrelation der Eigenschaften mit Gewinnrate')\n",
    "\n",
    "#Plotting Data\n",
    "dfcorr_win['Gewinnrate'].plot(kind='barh', color=(dfcorr_win['Gewinnrate'] > 0).map({True: 'G',False: 'r'}))"
   ]
  },
  {
   "cell_type": "code",
   "execution_count": 28,
   "metadata": {},
   "outputs": [
    {
     "data": {
      "text/plain": [
       "Text(0.5, 1.0, '(Pearson) Korrelationsmatrix aller Eigenschaften')"
      ]
     },
     "execution_count": 28,
     "metadata": {},
     "output_type": "execute_result"
    },
    {
     "data": {
      "image/png": "[encoded data removed]",
      "text/plain": [
       "<Figure size 432x288 with 2 Axes>"
      ]
     },
     "metadata": {
      "needs_background": "light"
     },
     "output_type": "display_data"
    }
   ],
   "source": [
    "#Creating Red-green Correlation Heatmap\n",
    "cmap = sns.diverging_palette(10, 133, as_cmap=True)\n",
    "sns.heatmap(N.corr(method='pearson'), vmin=-1, vmax=1, center= 0, cmap=cmap)\n",
    "plt.title('(Pearson) Korrelationsmatrix aller Eigenschaften')"
   ]
  },
  {
   "cell_type": "markdown",
   "metadata": {},
   "source": [
    "### (3.4) K-Means Clustering"
   ]
  },
  {
   "cell_type": "code",
   "execution_count": 29,
   "metadata": {},
   "outputs": [
    {
     "data": {
      "image/png": "[encoded data removed]",
      "text/plain": [
       "<Figure size 432x288 with 1 Axes>"
      ]
     },
     "metadata": {
      "needs_background": "light"
     },
     "output_type": "display_data"
    }
   ],
   "source": [
    "#Silhouette Ceofficient: Implicates how close one cluster is to other clusters.\n",
    "# Near 1 - CLuster is far away from Neighbouring Clusters and clearly distinguishable.\n",
    "# Near 0 - On the Verge of not being distinguishable\n",
    "# <0 - Samples may have been assigned to wrong clusters\n",
    "\n",
    "\n",
    "# silhouette scores to choose number of clusters.\n",
    "from sklearn.metrics import silhouette_score\n",
    "def sil_score(df):\n",
    "    sse_ = []\n",
    "    for k in range(2, 13):\n",
    "        kmeans = KMeans(n_clusters=k, random_state=123).fit(df) # fit.\n",
    "        sse_.append([k, silhouette_score(df, kmeans.labels_)])\n",
    "    plt.plot(pd.DataFrame(sse_)[0], pd.DataFrame(sse_)[1])\n",
    "    \n",
    "    #Plot title\n",
    "    plt.title('Silhouette Score')\n",
    "    \n",
    "    #Plot x and y lables\n",
    "    plt.ylabel('Silhouette Score')\n",
    "    plt.xlabel('Anzahl K-Means Cluster') \n",
    "\n",
    "sil_score(df)"
   ]
  },
  {
   "cell_type": "code",
   "execution_count": 30,
   "metadata": {},
   "outputs": [
    {
     "data": {
      "image/png": "[encoded data removed]",
      "text/plain": [
       "<Figure size 432x288 with 1 Axes>"
      ]
     },
     "metadata": {
      "needs_background": "light"
     },
     "output_type": "display_data"
    }
   ],
   "source": [
    "#ELbow Method: Where rate of decrease sharply shifts.\n",
    "#Effectiveness of k-means algorithm measured in distance \n",
    "#from data points to centroids\n",
    "#Elbow Point at 2 or 3\n",
    "\n",
    "def plot_ssd(df):\n",
    "    ssd = []\n",
    "    for num_clusters in list(range(1,10)):\n",
    "        model_clus = KMeans(n_clusters = num_clusters, max_iter=50, random_state=123)\n",
    "        model_clus.fit(df)\n",
    "        ssd.append(model_clus.inertia_)\n",
    "    plt.plot(ssd)\n",
    "    \n",
    "    #Plot title\n",
    "    plt.title('Kumulierte Entfernung zwischen Zentroiden')\n",
    "    \n",
    "    #Plot x and y lables\n",
    "    plt.ylabel('Kumulierte Entfernung')\n",
    "    plt.xlabel('Anzahl K-Means Cluster')\n",
    "\n",
    "plot_ssd(df)"
   ]
  },
  {
   "cell_type": "code",
   "execution_count": 31,
   "metadata": {},
   "outputs": [],
   "source": [
    "#Assigning data to X and y\n",
    "X = df[['chocolate','fruity','caramel', 'peanutyalmondy', 'nougat', 'crispedricewafer', 'hard', 'bar', 'pluribus', 'sugarpercent', 'price', 'number ingredients' ]].values\n",
    "y = df['winpercent'].values"
   ]
  },
  {
   "cell_type": "code",
   "execution_count": 32,
   "metadata": {},
   "outputs": [],
   "source": [
    "#Transforming pandas dataframe to numpy array\n",
    "X = np.nan_to_num(X)\n",
    "\n",
    "#Fitting Dataset\n",
    "Clus_dataSet = StandardScaler().fit_transform(X)"
   ]
  },
  {
   "cell_type": "markdown",
   "metadata": {},
   "source": [
    "#### (3.5.1) Cluster Analysis with 2 - 6 Clusters"
   ]
  },
  {
   "cell_type": "code",
   "execution_count": 33,
   "metadata": {},
   "outputs": [],
   "source": [
    "#Defining Clusteranalysis function\n",
    "def clusteranalysis(clusterNum, n_init):\n",
    "    \n",
    "    #defining X anew\n",
    "    X = df[['chocolate','fruity','caramel', 'peanutyalmondy', 'nougat', 'crispedricewafer', 'hard', 'bar', 'pluribus', 'sugarpercent', 'price', 'number ingredients' ]].values\n",
    "    \n",
    "    #Initiating k-means model\n",
    "    k_means = KMeans(init = \"k-means++\", n_clusters = clusterNum, n_init = n_init)\n",
    "\n",
    "    #Fitting Model and making array with cluster numbers\n",
    "    k_means.fit(X)\n",
    "    labels = k_means.labels_\n",
    "  \n",
    "    #Merging Cluster Array with Halloween Candy in df\n",
    "    dfclus = df\n",
    "    dfclus['Cluster'] = labels\n",
    "\n",
    "    #Creating single dfs for each cluster\n",
    "    for a in range(clusterNum):\n",
    "        dfc = dfclus[df['Cluster'] == a]\n",
    "        dfm = dfc.mean()\n",
    "        print('Total Number of Candy in Cluster ', a,': ',dfc.shape[0])\n",
    "        print('Average Attribute Values of Cluster ',a,':')\n",
    "        print(dfm)\n",
    "        print('')\n",
    "        print('---------------------------------------------------------------------------------------------')\n",
    "        print('');\n"
   ]
  },
  {
   "cell_type": "code",
   "execution_count": 34,
   "metadata": {},
   "outputs": [
    {
     "name": "stdout",
     "output_type": "stream",
     "text": [
      "Total Number of Candy in Cluster  0 :  22\n",
      "Average Attribute Values of Cluster  0 :\n",
      "chocolate              0.954545\n",
      "fruity                 0.045455\n",
      "caramel                0.363636\n",
      "peanutyalmondy         0.318182\n",
      "nougat                 0.318182\n",
      "crispedricewafer       0.272727\n",
      "hard                   0.045455\n",
      "bar                    0.954545\n",
      "pluribus               0.000000\n",
      "sugarpercent           0.531182\n",
      "price                  0.346246\n",
      "winpercent            60.735742\n",
      "number ingredients     3.272727\n",
      "Cluster                0.000000\n",
      "dtype: float64\n",
      "\n",
      "---------------------------------------------------------------------------------------------\n",
      "\n",
      "Total Number of Candy in Cluster  1 :  61\n",
      "Average Attribute Values of Cluster  1 :\n",
      "chocolate              0.262295\n",
      "fruity                 0.606557\n",
      "caramel                0.098361\n",
      "peanutyalmondy         0.114754\n",
      "nougat                 0.000000\n",
      "crispedricewafer       0.016393\n",
      "hard                   0.229508\n",
      "bar                    0.000000\n",
      "pluribus               0.721311\n",
      "sugarpercent           0.475033\n",
      "price                  0.189744\n",
      "winpercent            46.923951\n",
      "number ingredients     1.327869\n",
      "Cluster                1.000000\n",
      "dtype: float64\n",
      "\n",
      "---------------------------------------------------------------------------------------------\n",
      "\n"
     ]
    }
   ],
   "source": [
    "#K-Means Clusteranalysis with K=2 and Iterations=20\n",
    "clusteranalysis(2,20)"
   ]
  },
  {
   "cell_type": "code",
   "execution_count": 35,
   "metadata": {},
   "outputs": [
    {
     "name": "stdout",
     "output_type": "stream",
     "text": [
      "Total Number of Candy in Cluster  0 :  21\n",
      "Average Attribute Values of Cluster  0 :\n",
      "chocolate              0.952381\n",
      "fruity                 0.000000\n",
      "caramel                0.095238\n",
      "peanutyalmondy         0.333333\n",
      "nougat                 0.000000\n",
      "crispedricewafer       0.047619\n",
      "hard                   0.000000\n",
      "bar                    0.190476\n",
      "pluribus               0.619048\n",
      "sugarpercent           0.460667\n",
      "price                  0.282336\n",
      "winpercent            57.182599\n",
      "number ingredients     1.619048\n",
      "Cluster                0.000000\n",
      "dtype: float64\n",
      "\n",
      "---------------------------------------------------------------------------------------------\n",
      "\n",
      "Total Number of Candy in Cluster  1 :  18\n",
      "Average Attribute Values of Cluster  1 :\n",
      "chocolate              0.944444\n",
      "fruity                 0.055556\n",
      "caramel                0.444444\n",
      "peanutyalmondy         0.388889\n",
      "nougat                 0.388889\n",
      "crispedricewafer       0.333333\n",
      "hard                   0.055556\n",
      "bar                    0.944444\n",
      "pluribus               0.000000\n",
      "sugarpercent           0.558222\n",
      "price                  0.341080\n",
      "winpercent            62.387580\n",
      "number ingredients     3.555556\n",
      "Cluster                1.000000\n",
      "dtype: float64\n",
      "\n",
      "---------------------------------------------------------------------------------------------\n",
      "\n",
      "Total Number of Candy in Cluster  2 :  44\n",
      "Average Attribute Values of Cluster  2 :\n",
      "chocolate              0.000000\n",
      "fruity                 0.840909\n",
      "caramel                0.090909\n",
      "peanutyalmondy         0.000000\n",
      "nougat                 0.000000\n",
      "crispedricewafer       0.000000\n",
      "hard                   0.318182\n",
      "bar                    0.000000\n",
      "pluribus               0.704545\n",
      "sugarpercent           0.475932\n",
      "price                  0.161893\n",
      "winpercent            42.607644\n",
      "number ingredients     1.250000\n",
      "Cluster                2.000000\n",
      "dtype: float64\n",
      "\n",
      "---------------------------------------------------------------------------------------------\n",
      "\n"
     ]
    }
   ],
   "source": [
    "#K-Means Clusteranalysis with K=3 and Iterations=20\n",
    "clusteranalysis (3,20)"
   ]
  },
  {
   "cell_type": "code",
   "execution_count": 36,
   "metadata": {},
   "outputs": [
    {
     "name": "stdout",
     "output_type": "stream",
     "text": [
      "Total Number of Candy in Cluster  0 :  17\n",
      "Average Attribute Values of Cluster  0 :\n",
      "chocolate              0.941176\n",
      "fruity                 0.000000\n",
      "caramel                0.470588\n",
      "peanutyalmondy         0.411765\n",
      "nougat                 0.411765\n",
      "crispedricewafer       0.352941\n",
      "hard                   0.000000\n",
      "bar                    1.000000\n",
      "pluribus               0.000000\n",
      "sugarpercent           0.555529\n",
      "price                  0.351790\n",
      "winpercent            63.176105\n",
      "number ingredients     3.588235\n",
      "Cluster                0.000000\n",
      "dtype: float64\n",
      "\n",
      "---------------------------------------------------------------------------------------------\n",
      "\n",
      "Total Number of Candy in Cluster  1 :  31\n",
      "Average Attribute Values of Cluster  1 :\n",
      "chocolate              0.000000\n",
      "fruity                 0.774194\n",
      "caramel                0.064516\n",
      "peanutyalmondy         0.032258\n",
      "nougat                 0.000000\n",
      "crispedricewafer       0.000000\n",
      "hard                   0.032258\n",
      "bar                    0.000000\n",
      "pluribus               0.806452\n",
      "sugarpercent           0.450645\n",
      "price                  0.163437\n",
      "winpercent            43.054454\n",
      "number ingredients     0.903226\n",
      "Cluster                1.000000\n",
      "dtype: float64\n",
      "\n",
      "---------------------------------------------------------------------------------------------\n",
      "\n",
      "Total Number of Candy in Cluster  2 :  15\n",
      "Average Attribute Values of Cluster  2 :\n",
      "chocolate              0.066667\n",
      "fruity                 0.933333\n",
      "caramel                0.133333\n",
      "peanutyalmondy         0.000000\n",
      "nougat                 0.000000\n",
      "crispedricewafer       0.000000\n",
      "hard                   0.933333\n",
      "bar                    0.000000\n",
      "pluribus               0.466667\n",
      "sugarpercent           0.525867\n",
      "price                  0.164384\n",
      "winpercent            40.829914\n",
      "number ingredients     2.066667\n",
      "Cluster                2.000000\n",
      "dtype: float64\n",
      "\n",
      "---------------------------------------------------------------------------------------------\n",
      "\n",
      "Total Number of Candy in Cluster  3 :  20\n",
      "Average Attribute Values of Cluster  3 :\n",
      "chocolate              1.000000\n",
      "fruity                 0.000000\n",
      "caramel                0.100000\n",
      "peanutyalmondy         0.300000\n",
      "nougat                 0.000000\n",
      "crispedricewafer       0.050000\n",
      "hard                   0.000000\n",
      "bar                    0.200000\n",
      "pluribus               0.600000\n",
      "sugarpercent           0.468050\n",
      "price                  0.283953\n",
      "winpercent            58.870837\n",
      "number ingredients     1.650000\n",
      "Cluster                3.000000\n",
      "dtype: float64\n",
      "\n",
      "---------------------------------------------------------------------------------------------\n",
      "\n"
     ]
    }
   ],
   "source": [
    "#K-Means Clusteranalysis with K=4 and Iterations=20\n",
    "clusteranalysis (4,20)"
   ]
  },
  {
   "cell_type": "code",
   "execution_count": 37,
   "metadata": {},
   "outputs": [
    {
     "name": "stdout",
     "output_type": "stream",
     "text": [
      "Total Number of Candy in Cluster  0 :  31\n",
      "Average Attribute Values of Cluster  0 :\n",
      "chocolate              0.000000\n",
      "fruity                 0.774194\n",
      "caramel                0.064516\n",
      "peanutyalmondy         0.032258\n",
      "nougat                 0.000000\n",
      "crispedricewafer       0.000000\n",
      "hard                   0.032258\n",
      "bar                    0.000000\n",
      "pluribus               0.806452\n",
      "sugarpercent           0.450645\n",
      "price                  0.163437\n",
      "winpercent            43.054454\n",
      "number ingredients     0.903226\n",
      "Cluster                0.000000\n",
      "dtype: float64\n",
      "\n",
      "---------------------------------------------------------------------------------------------\n",
      "\n",
      "Total Number of Candy in Cluster  1 :  14\n",
      "Average Attribute Values of Cluster  1 :\n",
      "chocolate              0.928571\n",
      "fruity                 0.000000\n",
      "caramel                0.071429\n",
      "peanutyalmondy         0.285714\n",
      "nougat                 0.214286\n",
      "crispedricewafer       0.214286\n",
      "hard                   0.000000\n",
      "bar                    1.000000\n",
      "pluribus               0.000000\n",
      "sugarpercent           0.479571\n",
      "price                  0.360568\n",
      "winpercent            57.969371\n",
      "number ingredients     2.714286\n",
      "Cluster                1.000000\n",
      "dtype: float64\n",
      "\n",
      "---------------------------------------------------------------------------------------------\n",
      "\n",
      "Total Number of Candy in Cluster  2 :  7\n",
      "Average Attribute Values of Cluster  2 :\n",
      "chocolate              1.000000\n",
      "fruity                 0.000000\n",
      "caramel                1.000000\n",
      "peanutyalmondy         0.428571\n",
      "nougat                 0.571429\n",
      "crispedricewafer       0.428571\n",
      "hard                   0.000000\n",
      "bar                    1.000000\n",
      "pluribus               0.000000\n",
      "sugarpercent           0.624000\n",
      "price                  0.344353\n",
      "winpercent            67.947497\n",
      "number ingredients     4.428571\n",
      "Cluster                2.000000\n",
      "dtype: float64\n",
      "\n",
      "---------------------------------------------------------------------------------------------\n",
      "\n",
      "Total Number of Candy in Cluster  3 :  16\n",
      "Average Attribute Values of Cluster  3 :\n",
      "chocolate              1.000000\n",
      "fruity                 0.000000\n",
      "caramel                0.125000\n",
      "peanutyalmondy         0.375000\n",
      "nougat                 0.000000\n",
      "crispedricewafer       0.062500\n",
      "hard                   0.000000\n",
      "bar                    0.000000\n",
      "pluribus               0.750000\n",
      "sugarpercent           0.482687\n",
      "price                  0.262567\n",
      "winpercent            60.262929\n",
      "number ingredients     1.562500\n",
      "Cluster                3.000000\n",
      "dtype: float64\n",
      "\n",
      "---------------------------------------------------------------------------------------------\n",
      "\n",
      "Total Number of Candy in Cluster  4 :  15\n",
      "Average Attribute Values of Cluster  4 :\n",
      "chocolate              0.066667\n",
      "fruity                 0.933333\n",
      "caramel                0.133333\n",
      "peanutyalmondy         0.000000\n",
      "nougat                 0.000000\n",
      "crispedricewafer       0.000000\n",
      "hard                   0.933333\n",
      "bar                    0.000000\n",
      "pluribus               0.466667\n",
      "sugarpercent           0.525867\n",
      "price                  0.164384\n",
      "winpercent            40.829914\n",
      "number ingredients     2.066667\n",
      "Cluster                4.000000\n",
      "dtype: float64\n",
      "\n",
      "---------------------------------------------------------------------------------------------\n",
      "\n"
     ]
    }
   ],
   "source": [
    "#K-Means Clusteranalysis with K=5 and Iterations=20\n",
    "clusteranalysis (5,20)"
   ]
  },
  {
   "cell_type": "code",
   "execution_count": 38,
   "metadata": {},
   "outputs": [
    {
     "name": "stdout",
     "output_type": "stream",
     "text": [
      "Total Number of Candy in Cluster  0 :  15\n",
      "Average Attribute Values of Cluster  0 :\n",
      "chocolate              0.066667\n",
      "fruity                 0.933333\n",
      "caramel                0.133333\n",
      "peanutyalmondy         0.000000\n",
      "nougat                 0.000000\n",
      "crispedricewafer       0.000000\n",
      "hard                   0.933333\n",
      "bar                    0.000000\n",
      "pluribus               0.466667\n",
      "sugarpercent           0.525867\n",
      "price                  0.164384\n",
      "winpercent            40.829914\n",
      "number ingredients     2.066667\n",
      "Cluster                0.000000\n",
      "dtype: float64\n",
      "\n",
      "---------------------------------------------------------------------------------------------\n",
      "\n",
      "Total Number of Candy in Cluster  1 :  14\n",
      "Average Attribute Values of Cluster  1 :\n",
      "chocolate              0.928571\n",
      "fruity                 0.000000\n",
      "caramel                0.071429\n",
      "peanutyalmondy         0.285714\n",
      "nougat                 0.214286\n",
      "crispedricewafer       0.214286\n",
      "hard                   0.000000\n",
      "bar                    1.000000\n",
      "pluribus               0.000000\n",
      "sugarpercent           0.479571\n",
      "price                  0.360568\n",
      "winpercent            57.969371\n",
      "number ingredients     2.714286\n",
      "Cluster                1.000000\n",
      "dtype: float64\n",
      "\n",
      "---------------------------------------------------------------------------------------------\n",
      "\n",
      "Total Number of Candy in Cluster  2 :  31\n",
      "Average Attribute Values of Cluster  2 :\n",
      "chocolate              0.000000\n",
      "fruity                 0.774194\n",
      "caramel                0.064516\n",
      "peanutyalmondy         0.032258\n",
      "nougat                 0.000000\n",
      "crispedricewafer       0.000000\n",
      "hard                   0.032258\n",
      "bar                    0.000000\n",
      "pluribus               0.806452\n",
      "sugarpercent           0.450645\n",
      "price                  0.163437\n",
      "winpercent            43.054454\n",
      "number ingredients     0.903226\n",
      "Cluster                2.000000\n",
      "dtype: float64\n",
      "\n",
      "---------------------------------------------------------------------------------------------\n",
      "\n",
      "Total Number of Candy in Cluster  3 :  16\n",
      "Average Attribute Values of Cluster  3 :\n",
      "chocolate              1.000000\n",
      "fruity                 0.000000\n",
      "caramel                0.125000\n",
      "peanutyalmondy         0.375000\n",
      "nougat                 0.000000\n",
      "crispedricewafer       0.062500\n",
      "hard                   0.000000\n",
      "bar                    0.000000\n",
      "pluribus               0.750000\n",
      "sugarpercent           0.482687\n",
      "price                  0.262567\n",
      "winpercent            60.262929\n",
      "number ingredients     1.562500\n",
      "Cluster                3.000000\n",
      "dtype: float64\n",
      "\n",
      "---------------------------------------------------------------------------------------------\n",
      "\n",
      "Total Number of Candy in Cluster  4 :  7\n",
      "Average Attribute Values of Cluster  4 :\n",
      "chocolate              1.000000\n",
      "fruity                 0.000000\n",
      "caramel                1.000000\n",
      "peanutyalmondy         0.428571\n",
      "nougat                 0.571429\n",
      "crispedricewafer       0.428571\n",
      "hard                   0.000000\n",
      "bar                    1.000000\n",
      "pluribus               0.000000\n",
      "sugarpercent           0.624000\n",
      "price                  0.344353\n",
      "winpercent            67.947497\n",
      "number ingredients     4.428571\n",
      "Cluster                4.000000\n",
      "dtype: float64\n",
      "\n",
      "---------------------------------------------------------------------------------------------\n",
      "\n"
     ]
    }
   ],
   "source": [
    "#K-Means Clusteranalysis with K=6 and Iterations=20\n",
    "clusteranalysis (5,20)"
   ]
  },
  {
   "cell_type": "code",
   "execution_count": 39,
   "metadata": {},
   "outputs": [
    {
     "name": "stdout",
     "output_type": "stream",
     "text": [
      "Total Number of Candy in Cluster  0 :  24\n",
      "Average Attribute Values of Cluster  0 :\n",
      "chocolate              0.000000\n",
      "fruity                 1.000000\n",
      "caramel                0.000000\n",
      "peanutyalmondy         0.000000\n",
      "nougat                 0.000000\n",
      "crispedricewafer       0.000000\n",
      "hard                   0.000000\n",
      "bar                    0.000000\n",
      "pluribus               0.791667\n",
      "sugarpercent           0.419917\n",
      "price                  0.160449\n",
      "winpercent            46.083574\n",
      "number ingredients     1.000000\n",
      "Cluster                0.000000\n",
      "dtype: float64\n",
      "\n",
      "---------------------------------------------------------------------------------------------\n",
      "\n",
      "Total Number of Candy in Cluster  1 :  14\n",
      "Average Attribute Values of Cluster  1 :\n",
      "chocolate              0.928571\n",
      "fruity                 0.000000\n",
      "caramel                0.071429\n",
      "peanutyalmondy         0.285714\n",
      "nougat                 0.214286\n",
      "crispedricewafer       0.214286\n",
      "hard                   0.000000\n",
      "bar                    1.000000\n",
      "pluribus               0.000000\n",
      "sugarpercent           0.479571\n",
      "price                  0.360568\n",
      "winpercent            57.969371\n",
      "number ingredients     2.714286\n",
      "Cluster                1.000000\n",
      "dtype: float64\n",
      "\n",
      "---------------------------------------------------------------------------------------------\n",
      "\n",
      "Total Number of Candy in Cluster  2 :  14\n",
      "Average Attribute Values of Cluster  2 :\n",
      "chocolate              0.500000\n",
      "fruity                 0.000000\n",
      "caramel                0.142857\n",
      "peanutyalmondy         0.071429\n",
      "nougat                 0.000000\n",
      "crispedricewafer       0.000000\n",
      "hard                   0.071429\n",
      "bar                    0.000000\n",
      "pluribus               0.857143\n",
      "sugarpercent           0.429643\n",
      "price                  0.185875\n",
      "winpercent            40.661888\n",
      "number ingredients     0.785714\n",
      "Cluster                2.000000\n",
      "dtype: float64\n",
      "\n",
      "---------------------------------------------------------------------------------------------\n",
      "\n",
      "Total Number of Candy in Cluster  3 :  7\n",
      "Average Attribute Values of Cluster  3 :\n",
      "chocolate              1.000000\n",
      "fruity                 0.000000\n",
      "caramel                1.000000\n",
      "peanutyalmondy         0.428571\n",
      "nougat                 0.571429\n",
      "crispedricewafer       0.428571\n",
      "hard                   0.000000\n",
      "bar                    1.000000\n",
      "pluribus               0.000000\n",
      "sugarpercent           0.624000\n",
      "price                  0.344353\n",
      "winpercent            67.947497\n",
      "number ingredients     4.428571\n",
      "Cluster                3.000000\n",
      "dtype: float64\n",
      "\n",
      "---------------------------------------------------------------------------------------------\n",
      "\n",
      "Total Number of Candy in Cluster  4 :  15\n",
      "Average Attribute Values of Cluster  4 :\n",
      "chocolate              0.066667\n",
      "fruity                 0.933333\n",
      "caramel                0.133333\n",
      "peanutyalmondy         0.000000\n",
      "nougat                 0.000000\n",
      "crispedricewafer       0.000000\n",
      "hard                   0.933333\n",
      "bar                    0.000000\n",
      "pluribus               0.466667\n",
      "sugarpercent           0.525867\n",
      "price                  0.164384\n",
      "winpercent            40.829914\n",
      "number ingredients     2.066667\n",
      "Cluster                4.000000\n",
      "dtype: float64\n",
      "\n",
      "---------------------------------------------------------------------------------------------\n",
      "\n",
      "Total Number of Candy in Cluster  5 :  9\n",
      "Average Attribute Values of Cluster  5 :\n",
      "chocolate              1.000000\n",
      "fruity                 0.000000\n",
      "caramel                0.222222\n",
      "peanutyalmondy         0.666667\n",
      "nougat                 0.000000\n",
      "crispedricewafer       0.111111\n",
      "hard                   0.000000\n",
      "bar                    0.000000\n",
      "pluribus               0.666667\n",
      "sugarpercent           0.622222\n",
      "price                  0.312731\n",
      "winpercent            69.291416\n",
      "number ingredients     2.000000\n",
      "Cluster                5.000000\n",
      "dtype: float64\n",
      "\n",
      "---------------------------------------------------------------------------------------------\n",
      "\n"
     ]
    }
   ],
   "source": [
    "clusteranalysis (6,20)"
   ]
  }
 ],
 "metadata": {
  "kernelspec": {
   "display_name": "Python 3",
   "language": "python",
   "name": "python3"
  },
  "language_info": {
   "codemirror_mode": {
    "name": "ipython",
    "version": 3
   },
   "file_extension": ".py",
   "mimetype": "text/x-python",
   "name": "python",
   "nbconvert_exporter": "python",
   "pygments_lexer": "ipython3",
   "version": "3.8.3"
  }
 },
 "nbformat": 4,
 "nbformat_minor": 4
}
